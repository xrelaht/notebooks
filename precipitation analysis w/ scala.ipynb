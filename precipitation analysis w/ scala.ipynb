{
    "cells": [
        {
            "cell_type": "code",
            "execution_count": 1,
            "metadata": {},
            "outputs": [
                {
                    "name": "stdout",
                    "output_type": "stream",
                    "text": "+--------------------+--------------+------------------+--------------------------+---------+--------------------------------+---------------------+----+----+-------------+----+-------------+----+-------------+----+-------------+----+-------------+---+-------------+---+-------------+---+-------------+---+-------------+----+-------------+----+-------------+----+-------------+------+----------------+--------------------------+------------------------------------+\n|Country or Territory|  Station Name|WMO Station Number|National Station Id Number|   Period|Element-Statistic Qualifier Code|Statistic Description|Unit| Jan|Jan Footnotes| Feb|Feb Footnotes| Mar|Mar Footnotes| Apr|Apr Footnotes| May|May Footnotes|Jun|Jun Footnotes|Jul|Jul Footnotes|Aug|Aug Footnotes|Sep|Sep Footnotes| Oct|Oct Footnotes| Nov|Nov Footnotes| Dec|Dec Footnotes|Annual|Annual Footnotes|Annual NCDC Computed Value|Annual NCDC Computed Value Footnotes|\n+--------------------+--------------+------------------+--------------------------+---------+--------------------------------+---------------------+----+----+-------------+----+-------------+----+-------------+----+-------------+----+-------------+---+-------------+---+-------------+---+-------------+---+-------------+----+-------------+----+-------------+----+-------------+------+----------------+--------------------------+------------------------------------+\n|AFGHANISTAN, ISLA...|     Faiz abad|             40904|                      null|1961-1983|                            null|   Mean Monthly Value|  mm|49.4|         null|65.0|         null|91.9|         null|97.9|         null|77.0|         null|8.2|         null|5.8|         null|1.0|         null|1.5|         null|23.4|         null|29.7|         null|34.1|         null|  40.4|            null|                     484.9|                                null|\n|AFGHANISTAN, ISLA...|    Sheberghan|             40908|                      null|1959-1983|                            null|   Mean Monthly Value|  mm|42.3|         null|44.3|         null|56.4|         null|25.9|         null|11.2|         null|0.2|         null|0.0|         null|0.0|         null|0.2|         null| 6.6|         null|13.6|         null|29.8|         null|  19.2|            null|                     230.5|                                null|\n|AFGHANISTAN, ISLA...|Mazar-i-Sharif|             40911|                      null|1958-1983|                            null|   Mean Monthly Value|  mm|28.9|         null|34.8|         null|43.8|         null|28.3|         null|11.2|         null|0.2|         null|0.0|         null|0.0|         null|0.1|         null| 3.9|         null|13.5|         null|21.7|         null|  15.5|            null|                     186.4|                                null|\n|AFGHANISTAN, ISLA...|        Kunduz|             40913|                      null|1968-1983|                            null|   Mean Monthly Value|  mm|44.0|         null|56.5|         null|76.7|         null|54.4|         null|29.8|         null|0.1|         null|1.3|         null|0.3|         null|0.1|         null| 7.3|         null|23.7|         null|28.4|         null|  26.8|            null|                     322.6|                                null|\n|AFGHANISTAN, ISLA...|       Maimana|             40922|                      null|1964-1983|                            null|   Mean Monthly Value|  mm|49.9|         null|60.5|         null|82.2|         null|60.5|         null|25.6|         null|1.0|         null|0.5|         null|0.0|         null|0.2|         null| 9.6|         null|20.9|         null|44.7|         null|  29.6|            null|                     355.6|                                null|\n+--------------------+--------------+------------------+--------------------------+---------+--------------------------------+---------------------+----+----+-------------+----+-------------+----+-------------+----+-------------+----+-------------+---+-------------+---+-------------+---+-------------+---+-------------+----+-------------+----+-------------+----+-------------+------+----------------+--------------------------+------------------------------------+\nonly showing top 5 rows\n\n"
                },
                {
                    "data": {
                        "text/plain": "configurationName = os_9b0d35ebfa0c488aa529a049ac4ff7bd_configs\ncos = com.ibm.ibmos2spark.CloudObjectStorage@cb793f3f\nspark = org.apache.spark.sql.SparkSession@1797c2f4\ndfData1 = [Country or Territory: string, Station Name: string ... 34 more fields]\n"
                    },
                    "metadata": {},
                    "output_type": "display_data"
                },
                {
                    "data": {
                        "text/plain": "getCredentials: ()scala.collection.mutable.HashMap[String,String]\n"
                    },
                    "metadata": {},
                    "output_type": "display_data"
                },
                {
                    "data": {
                        "text/plain": "[Country or Territory: string, Station Name: string ... 34 more fields]"
                    },
                    "execution_count": 1,
                    "metadata": {},
                    "output_type": "execute_result"
                }
            ],
            "source": "// The code was removed by Watson Studio for sharing."
        },
        {
            "cell_type": "code",
            "execution_count": null,
            "metadata": {},
            "outputs": [],
            "source": ""
        }
    ],
    "metadata": {
        "kernelspec": {
            "display_name": "Scala 2.12 with Spark",
            "language": "scala",
            "name": "scala"
        },
        "language_info": {
            "codemirror_mode": "text/x-scala",
            "file_extension": ".scala",
            "mimetype": "text/x-scala",
            "name": "scala",
            "pygments_lexer": "scala",
            "version": "2.12.12"
        }
    },
    "nbformat": 4,
    "nbformat_minor": 1
}